{
 "cells": [
  {
   "cell_type": "markdown",
   "metadata": {
    "slideshow": {
     "slide_type": "slide"
    }
   },
   "source": [
    "# Oppgaver til kursdag\n",
    "\n",
    "![Foto](https://upload.wikimedia.org/wikipedia/commons/thumb/8/8d/Bg.kat.s.1.jpg/640px-Bg.kat.s.1.jpg)\n",
    "\n",
    "Bergen Katedralskole. Photo: Nina Aldin Thune\n"
   ]
  },
  {
   "cell_type": "markdown",
   "metadata": {},
   "source": [
    "## Python som kalkulator"
   ]
  },
  {
   "cell_type": "code",
   "execution_count": null,
   "metadata": {},
   "outputs": [],
   "source": []
  },
  {
   "cell_type": "code",
   "execution_count": null,
   "metadata": {},
   "outputs": [],
   "source": []
  },
  {
   "cell_type": "code",
   "execution_count": null,
   "metadata": {},
   "outputs": [],
   "source": []
  },
  {
   "cell_type": "code",
   "execution_count": null,
   "metadata": {},
   "outputs": [],
   "source": []
  },
  {
   "cell_type": "code",
   "execution_count": null,
   "metadata": {},
   "outputs": [],
   "source": []
  },
  {
   "cell_type": "code",
   "execution_count": null,
   "metadata": {},
   "outputs": [],
   "source": []
  },
  {
   "cell_type": "markdown",
   "metadata": {
    "slideshow": {
     "slide_type": "slide"
    }
   },
   "source": [
    "## Oppgave 1\n",
    "\n",
    "Bruk konsollen til å svare på følgende spørsmål:\n",
    "\n",
    "1. Hva er $2+0.5+2^3-\\sqrt{12}+\\dfrac{17}{2^5-1}$?\n",
    "1. Hvor mange ganger går 8 opp i 100?\n",
    "1. Er 39812904031 delelig med 7?\n",
    "1. Punktet $(1, 0)$ har rotert  45321 grader om origo. Hvor mange hele runder\n",
    "      har punktet da rotert? Hva er vinkelen mellom punktet og $x$-aksen?"
   ]
  },
  {
   "cell_type": "code",
   "execution_count": null,
   "metadata": {
    "slideshow": {
     "slide_type": "-"
    }
   },
   "outputs": [],
   "source": [
    " "
   ]
  },
  {
   "cell_type": "code",
   "execution_count": null,
   "metadata": {
    "slideshow": {
     "slide_type": "-"
    }
   },
   "outputs": [],
   "source": []
  },
  {
   "cell_type": "code",
   "execution_count": null,
   "metadata": {
    "slideshow": {
     "slide_type": "-"
    }
   },
   "outputs": [],
   "source": []
  },
  {
   "cell_type": "code",
   "execution_count": null,
   "metadata": {
    "slideshow": {
     "slide_type": "-"
    }
   },
   "outputs": [],
   "source": []
  },
  {
   "cell_type": "markdown",
   "metadata": {
    "slideshow": {
     "slide_type": "slide"
    }
   },
   "source": [
    "## Oppgave 2\n",
    "\n",
    "Be Python regne ut $x^3-x^2(x+3)-7x(x+5)$ når $x=-3$."
   ]
  },
  {
   "cell_type": "code",
   "execution_count": null,
   "metadata": {
    "slideshow": {
     "slide_type": "-"
    }
   },
   "outputs": [],
   "source": []
  },
  {
   "cell_type": "code",
   "execution_count": null,
   "metadata": {},
   "outputs": [],
   "source": []
  },
  {
   "cell_type": "markdown",
   "metadata": {},
   "source": [
    "---"
   ]
  },
  {
   "cell_type": "markdown",
   "metadata": {},
   "source": [
    "## Å be brukeren om input\n",
    "\n",
    "... og litt om datatyper"
   ]
  },
  {
   "cell_type": "code",
   "execution_count": null,
   "metadata": {},
   "outputs": [],
   "source": []
  },
  {
   "cell_type": "code",
   "execution_count": null,
   "metadata": {},
   "outputs": [],
   "source": []
  },
  {
   "cell_type": "code",
   "execution_count": null,
   "metadata": {},
   "outputs": [],
   "source": []
  },
  {
   "cell_type": "code",
   "execution_count": null,
   "metadata": {},
   "outputs": [],
   "source": []
  },
  {
   "cell_type": "markdown",
   "metadata": {
    "slideshow": {
     "slide_type": "slide"
    }
   },
   "source": [
    "## Oppgave 3\n",
    "\n",
    "  Lag et program som regner ut arealet til et rektangel. Når du kjører\n",
    "  programmet skal det spørre etter lengde og etter bredde og så skrive ut\n",
    "  arealet til rektangelet.\n"
   ]
  },
  {
   "cell_type": "code",
   "execution_count": null,
   "metadata": {
    "slideshow": {
     "slide_type": "-"
    }
   },
   "outputs": [],
   "source": []
  },
  {
   "cell_type": "markdown",
   "metadata": {
    "slideshow": {
     "slide_type": "slide"
    }
   },
   "source": [
    "## Oppgave 4\n",
    "\n",
    "1. Lag variabelen $s$ med verdien $s=\\frac{1}{2}\\left(a+b+c\\right)$, der\n",
    "    $a = 5$, $b = 7$ og $c=9$.\n",
    "2. Opprett variabelen $F$ med verdien $F = \\sqrt{s(s-a)(s-b)(s-c)}$. \n",
    "    \n",
    "    Skriv ut resultatet til skjermen. Dette er\n",
    "    arealet til en trekant med sider $a$, $b$ og $c$."
   ]
  },
  {
   "cell_type": "code",
   "execution_count": null,
   "metadata": {
    "slideshow": {
     "slide_type": "-"
    }
   },
   "outputs": [],
   "source": []
  },
  {
   "cell_type": "code",
   "execution_count": null,
   "metadata": {
    "slideshow": {
     "slide_type": "-"
    }
   },
   "outputs": [],
   "source": []
  },
  {
   "cell_type": "markdown",
   "metadata": {},
   "source": [
    "___"
   ]
  },
  {
   "cell_type": "code",
   "execution_count": null,
   "metadata": {},
   "outputs": [],
   "source": []
  },
  {
   "cell_type": "code",
   "execution_count": null,
   "metadata": {},
   "outputs": [],
   "source": []
  },
  {
   "cell_type": "markdown",
   "metadata": {
    "slideshow": {
     "slide_type": "slide"
    }
   },
   "source": [
    "## Oppgave 5\n",
    "\n",
    "Lag et program som skriver ut de 20 første kvadrattallene."
   ]
  },
  {
   "cell_type": "code",
   "execution_count": null,
   "metadata": {
    "slideshow": {
     "slide_type": "-"
    }
   },
   "outputs": [],
   "source": []
  },
  {
   "cell_type": "markdown",
   "metadata": {},
   "source": [
    "***"
   ]
  },
  {
   "cell_type": "markdown",
   "metadata": {},
   "source": [
    "## Vi kan regne ut summer"
   ]
  },
  {
   "cell_type": "code",
   "execution_count": null,
   "metadata": {},
   "outputs": [],
   "source": []
  },
  {
   "cell_type": "code",
   "execution_count": null,
   "metadata": {},
   "outputs": [],
   "source": []
  },
  {
   "cell_type": "code",
   "execution_count": null,
   "metadata": {},
   "outputs": [],
   "source": []
  },
  {
   "cell_type": "markdown",
   "metadata": {
    "slideshow": {
     "slide_type": "-"
    }
   },
   "source": [
    "## Oppgave 6\n",
    "\n",
    " Figurene nedenfor viser et mønster som er laget ved hjelp av mørke og lyse kvadratiske\n",
    " steinheller.\n",
    " ![Bilde](https://raw.githubusercontent.com/tork73/tork73.github.io/master/webpage/bilder/steinplater.png)\n",
    " \n",
    "  Lag et program som regner ut hvor mange lyse og hvor mange mørke\n",
    "    steinheller vi trenger for å figurene 1 til 100."
   ]
  },
  {
   "cell_type": "code",
   "execution_count": null,
   "metadata": {},
   "outputs": [],
   "source": []
  },
  {
   "cell_type": "code",
   "execution_count": null,
   "metadata": {},
   "outputs": [],
   "source": []
  },
  {
   "cell_type": "markdown",
   "metadata": {},
   "source": [
    "## Oppgave 7\n",
    "\n",
    " Hva er summen av de 100 første leddene av den aritmetiske følgen $4$, $9$, $14$, $\\ldots$? Løs oppgaven både med og uten Python."
   ]
  },
  {
   "cell_type": "code",
   "execution_count": null,
   "metadata": {},
   "outputs": [],
   "source": []
  },
  {
   "cell_type": "code",
   "execution_count": null,
   "metadata": {},
   "outputs": [],
   "source": []
  },
  {
   "cell_type": "markdown",
   "metadata": {},
   "source": [
    "## Oppgave 8\n",
    "\n",
    "Forklar hva følgende program gjør. Hva tror du blir printet ut på skjermen?\n",
    "```python\n",
    "n = 10\n",
    "k = 0\n",
    "for i in range(1, n+1):\n",
    "    k = k + 2*i-1\n",
    "print(k)\n",
    "```\n"
   ]
  },
  {
   "cell_type": "code",
   "execution_count": null,
   "metadata": {},
   "outputs": [],
   "source": []
  },
  {
   "cell_type": "markdown",
   "metadata": {},
   "source": [
    "***"
   ]
  },
  {
   "cell_type": "markdown",
   "metadata": {},
   "source": [
    "## If-tester"
   ]
  },
  {
   "cell_type": "code",
   "execution_count": null,
   "metadata": {},
   "outputs": [],
   "source": []
  },
  {
   "cell_type": "code",
   "execution_count": null,
   "metadata": {},
   "outputs": [],
   "source": []
  },
  {
   "cell_type": "code",
   "execution_count": null,
   "metadata": {},
   "outputs": [],
   "source": []
  },
  {
   "cell_type": "markdown",
   "metadata": {},
   "source": [
    "## Oppgave 9\n",
    "\n",
    "Lag et program som ber brukeren om et heltall, sjekker om tallet er et partall\n",
    "  eller et oddetall og skriver ut resultat med en forklarende tekst.\n",
    "\n",
    "```\n",
    "  Tallet 121 er et oddetall.\n",
    "```"
   ]
  },
  {
   "cell_type": "code",
   "execution_count": null,
   "metadata": {},
   "outputs": [],
   "source": []
  },
  {
   "cell_type": "code",
   "execution_count": null,
   "metadata": {},
   "outputs": [],
   "source": []
  },
  {
   "cell_type": "code",
   "execution_count": null,
   "metadata": {},
   "outputs": [],
   "source": []
  },
  {
   "cell_type": "markdown",
   "metadata": {},
   "source": [
    "## While"
   ]
  },
  {
   "cell_type": "markdown",
   "metadata": {},
   "source": [
    "## Oppgave 10\n",
    "\n",
    "Stian jobber i butikk og har fått i oppgave å stable hermetikkbokser. Han\n",
    "har 150 bokser som han kan bruke. Boksene skal stables slik at det er en\n",
    "boks på i den øverste raden, to bokser i nest-øverste raden, tre bokser i\n",
    "raden under der og så videre. Se bildet\n",
    "\n",
    "<img src=\"https://github.com/tork73/tork73.github.io/blob/master/webpage/bilder/stabelmedbokser.jpg?raw=true\" alt=\"bokser\" width=\"180\"/>\n"
   ]
  },
  {
   "cell_type": "code",
   "execution_count": null,
   "metadata": {},
   "outputs": [],
   "source": []
  },
  {
   "cell_type": "code",
   "execution_count": null,
   "metadata": {},
   "outputs": [],
   "source": []
  },
  {
   "cell_type": "markdown",
   "metadata": {},
   "source": [
    "## Oppgave 11\n",
    "\n",
    " Lag et program som regner ut summen av den aritmetiske rekken\n",
    " \n",
    "  $ 1+4+7+\\cdots+27688$."
   ]
  },
  {
   "cell_type": "code",
   "execution_count": null,
   "metadata": {},
   "outputs": [],
   "source": []
  },
  {
   "cell_type": "code",
   "execution_count": null,
   "metadata": {},
   "outputs": [],
   "source": []
  },
  {
   "cell_type": "markdown",
   "metadata": {},
   "source": [
    "## Oppgave 12a\n",
    "\n",
    "Maria setter 1200 kroner i banken. Den årlige renten er 2,1 \\%. Hvor\n",
    "    lang tid før det beløpet er forentet seg til over 2000 kroner?"
   ]
  },
  {
   "cell_type": "code",
   "execution_count": null,
   "metadata": {},
   "outputs": [],
   "source": []
  },
  {
   "cell_type": "markdown",
   "metadata": {},
   "source": [
    "## Oppgave 12b\n",
    "Elise vil også sette inn penger i banken. Hvor stort beløp må hun\n",
    "    sette inn for at det skal ta 10 år før beløpet passerer 2000 kroner. Også\n",
    "    hun får en årlig rente på 2,1 %."
   ]
  },
  {
   "cell_type": "code",
   "execution_count": null,
   "metadata": {},
   "outputs": [],
   "source": []
  },
  {
   "cell_type": "markdown",
   "metadata": {},
   "source": [
    "## Oppgave 13\n",
    "\n",
    "Lag et program som finner alle naturlige tall mellom 1000 og 2500 som er\n",
    "  delelig med 7 men ikke et multippel av 5."
   ]
  },
  {
   "cell_type": "code",
   "execution_count": null,
   "metadata": {},
   "outputs": [],
   "source": []
  },
  {
   "cell_type": "code",
   "execution_count": null,
   "metadata": {},
   "outputs": [],
   "source": []
  },
  {
   "cell_type": "markdown",
   "metadata": {},
   "source": [
    "***\n",
    "\n",
    "## Funksjoner i Python"
   ]
  },
  {
   "cell_type": "code",
   "execution_count": null,
   "metadata": {},
   "outputs": [],
   "source": []
  },
  {
   "cell_type": "code",
   "execution_count": null,
   "metadata": {},
   "outputs": [],
   "source": []
  },
  {
   "cell_type": "markdown",
   "metadata": {},
   "source": [
    "## Oppgave 14\n",
    "\n",
    "Lag et program som regne ut n! (fakulet) for et naturlig tall. Lag\n",
    "  programmet som en funksjon Fakultet(n)."
   ]
  },
  {
   "cell_type": "code",
   "execution_count": null,
   "metadata": {},
   "outputs": [],
   "source": []
  },
  {
   "cell_type": "code",
   "execution_count": null,
   "metadata": {},
   "outputs": [],
   "source": []
  },
  {
   "cell_type": "markdown",
   "metadata": {},
   "source": [
    "## Oppgave 15\n",
    " Lag et program som regner ut   $\\displaystyle \\sum_{n=0}^{100} \\frac{1}{n!}$"
   ]
  },
  {
   "cell_type": "code",
   "execution_count": null,
   "metadata": {},
   "outputs": [],
   "source": []
  },
  {
   "cell_type": "code",
   "execution_count": null,
   "metadata": {},
   "outputs": [],
   "source": []
  },
  {
   "cell_type": "markdown",
   "metadata": {},
   "source": [
    "## Oppgave 16\n",
    "\n",
    "Lag et program som gir oss tverrsummen av et naturlig tall. Hva er\n",
    "  trverrsummen til tallet $2^{1000}$?"
   ]
  },
  {
   "cell_type": "code",
   "execution_count": null,
   "metadata": {},
   "outputs": [],
   "source": []
  },
  {
   "cell_type": "code",
   "execution_count": null,
   "metadata": {},
   "outputs": [],
   "source": []
  },
  {
   "cell_type": "markdown",
   "metadata": {},
   "source": [
    "## Oppgave 17\n",
    "\n",
    " De 7 første fibonaccitallene er 1, 1,  2, 3, 5, 8, 13. Hvert ledd er\n",
    "  gitt som summen av de to foregående leddene.\n",
    "  \n",
    " 1. Lag et program som lager en liste over de $n$ første\n",
    "    fibonaccitallene.\n",
    " 1. Hva er summen av alle fibonaccitall som er delelig med 3 og som er\n",
    "    mindre enn 3\\,000\\,000?\n",
    " 1. Bruk Python til å regne ut forholdet $F_{n}/F_{n-1}$ mellom fibonaccitall $F_n$ og det      foregående fibonaccitallet $F_{n-1}$ for ulike verdier av $n$.  Hva blir  $\\lim_{n\\to \\infty}{F_n}/F_{n-1}$? (Kan du vise det generelt?) "
   ]
  },
  {
   "cell_type": "code",
   "execution_count": null,
   "metadata": {},
   "outputs": [],
   "source": []
  },
  {
   "cell_type": "code",
   "execution_count": null,
   "metadata": {},
   "outputs": [],
   "source": []
  }
 ],
 "metadata": {
  "kernelspec": {
   "display_name": "Python 3",
   "language": "python",
   "name": "python3"
  },
  "language_info": {
   "codemirror_mode": {
    "name": "ipython",
    "version": 3
   },
   "file_extension": ".py",
   "mimetype": "text/x-python",
   "name": "python",
   "nbconvert_exporter": "python",
   "pygments_lexer": "ipython3",
   "version": "3.8.3"
  }
 },
 "nbformat": 4,
 "nbformat_minor": 4
}