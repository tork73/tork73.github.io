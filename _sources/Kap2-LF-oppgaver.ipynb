{
 "cells": [
  {
   "attachments": {},
   "cell_type": "markdown",
   "metadata": {},
   "source": [
    "# Løsningsforslag til utvalgte oppgaver i kapittel 2\n"
   ]
  },
  {
   "attachments": {},
   "cell_type": "markdown",
   "metadata": {},
   "source": [
    "## Oppgave 2.1\n",
    "\n",
    " Lag et program som legger sammen de 20 første kvadrattallene:\n",
    " \n",
    "  $$ S = 1^2+2^2+3^2 +\\cdots+20^2 $$\n",
    "\n",
    "  **Løsning:**"
   ]
  },
  {
   "cell_type": "code",
   "execution_count": 1,
   "metadata": {},
   "outputs": [
    {
     "name": "stdout",
     "output_type": "stream",
     "text": [
      "2870\n"
     ]
    }
   ],
   "source": [
    "S = 0 # Skal bli summen av kvadrattallene\n",
    "for i in range(1, 21):\n",
    "    S = S + i**2\n",
    "print(S)"
   ]
  },
  {
   "attachments": {},
   "cell_type": "markdown",
   "metadata": {},
   "source": [
    "## Oppgave 2.2\n",
    "\n",
    "Lag et program som regner ut summen av den aritmetiske rekken\n",
    "\n",
    "$$ 1+4+7+\\cdots +27\\,688 $$\n",
    "\n",
    "**Løsning:**\n",
    "\n",
    "Jeg legger merke til at differansen mellom hvert tall i rekken er 3. Så jeg kan bruke en for-løkke som starter på 1 og teller opp med 3 til 27 688. I løkka legger jeg til det nåværende tallet i summen:"
   ]
  },
  {
   "cell_type": "code",
   "execution_count": 2,
   "metadata": {},
   "outputs": [
    {
     "name": "stdout",
     "output_type": "stream",
     "text": [
      "127784735\n"
     ]
    }
   ],
   "source": [
    "sum = 0\n",
    "for i in range(1, 27689, 3):\n",
    "    sum = sum + i\n",
    "print(sum)\n"
   ]
  },
  {
   "attachments": {},
   "cell_type": "markdown",
   "metadata": {},
   "source": [
    "## Oppgave 2.3\n",
    "\n",
    "Regn ut summen\n",
    "$\\displaystyle S_n = \\frac{1}{1^2}+\\frac{1}{2^2} + \\frac{1}{3^2} +\\cdots + \\frac{1}{n^2} $. \n",
    "\n",
    "for ulike verdier for $n$.\n",
    "\n",
    "Vi lar $\\displaystyle S = \\frac{1}{1^2}+\\frac{1}{2^2} + \\frac{1}{3^2} +\\cdots $. \n",
    "\n",
    "Hva blir $\\sqrt{6S}$? Prøv med store verdier for $n$ i den endelige summen og se hvilket tall du får.\n",
    "\n",
    "**Løsning:**"
   ]
  },
  {
   "cell_type": "code",
   "execution_count": 3,
   "metadata": {},
   "outputs": [
    {
     "name": "stdout",
     "output_type": "stream",
     "text": [
      "1.6449240668982423\n"
     ]
    }
   ],
   "source": [
    "S = 0 \n",
    "n = 100000\n",
    "for i in range(1, n+1):\n",
    "    S = S + 1/i**2\n",
    "print(S)"
   ]
  },
  {
   "cell_type": "code",
   "execution_count": 4,
   "metadata": {},
   "outputs": [
    {
     "name": "stdout",
     "output_type": "stream",
     "text": [
      "3.141583104326456\n"
     ]
    }
   ],
   "source": [
    "print((6*S)**0.5)"
   ]
  },
  {
   "attachments": {},
   "cell_type": "markdown",
   "metadata": {},
   "source": [
    "Vi ser at vi har fått en god tilnærming til $\\pi$. "
   ]
  },
  {
   "attachments": {},
   "cell_type": "markdown",
   "metadata": {},
   "source": [
    "## Oppgave 2.4\n",
    "\n",
    "Lag et program som finner alle naturlige tall mellom 1000 og 2500 som er delelig med 7, men ikke et multiplum av 5.\n",
    "\n",
    "**Løsning:**"
   ]
  },
  {
   "cell_type": "code",
   "execution_count": 6,
   "metadata": {},
   "outputs": [
    {
     "name": "stdout",
     "output_type": "stream",
     "text": [
      "2743\n"
     ]
    }
   ],
   "source": [
    "antall = 0   # Skal bli antall tall som er delelige med 7 og ikke et multiplum av 5\n",
    "n = 1000    # starter med n = 1000\n",
    "while n <= 25000:\n",
    "    if n % 7 == 0 and n % 5 != 0: # sjekker om n er delelig med 7 og ikke et multiplum av 5\n",
    "        antall = antall + 1       # hvis ja, øker antall med 1\n",
    "    n = n + 1                     # øker n med 1\n",
    "print(antall)"
   ]
  },
  {
   "attachments": {},
   "cell_type": "markdown",
   "metadata": {},
   "source": [
    "## Oppgave 2.5\n",
    "\n",
    "Lag et program som finnner alle kvadrattallene $a^2$ som er mindre enn 10000 som er slik at siste siffer i $a^2$ er 1 eller 6. \n",
    "\n",
    "De tre første kvadrattallene som oppfyller vilkårene, er 1, 16 og 36. \n",
    "\n",
    "Klarer du å finne de 37 andre?\n",
    "\n",
    "**Løsning:**"
   ]
  },
  {
   "cell_type": "code",
   "execution_count": 10,
   "metadata": {},
   "outputs": [
    {
     "name": "stdout",
     "output_type": "stream",
     "text": [
      "1, 16, 36, 81, 121, 196, 256, 361, 441, 576, 676, 841, 961, "
     ]
    }
   ],
   "source": [
    "a = 1\n",
    "while a**2 < 1000:\n",
    "    if a**2 % 10 == 1 or a**2 % 10 == 6:\n",
    "        print(a**2, end=\", \")\n",
    "    a = a + 1"
   ]
  },
  {
   "attachments": {},
   "cell_type": "markdown",
   "metadata": {},
   "source": [
    "## Oppgave 2.9\n",
    "\n",
    "  Funksjonen $f$ er gitt ved\n",
    "\n",
    "  $$ f(x)=x^2-2x+1, \\quad D_f=[-1, \\  3]$$\n",
    "  \n",
    "  Lag et program som skriver ut en verditabell til $f$. Velg $x$ verdiene $-1, -0.5, 0, 0.5, 1, \\ldots 3$\n",
    "\n",
    "  **Løsning:**"
   ]
  },
  {
   "cell_type": "code",
   "execution_count": 11,
   "metadata": {},
   "outputs": [
    {
     "name": "stdout",
     "output_type": "stream",
     "text": [
      "x\tf(x)\n",
      "-1\t4\n",
      "-0.5\t2.25\n",
      "0.0\t1.0\n",
      "0.5\t0.25\n",
      "1.0\t0.0\n",
      "1.5\t0.25\n",
      "2.0\t1.0\n",
      "2.5\t2.25\n",
      "3.0\t4.0\n"
     ]
    }
   ],
   "source": [
    "# Definerer funksjonen:\n",
    "def f(x):\n",
    "    return x**2 - 2*x + 1\n",
    "\n",
    "# Skriver overskrifter:\n",
    "print(\"x\", \"f(x)\", sep=\"\\t\")  # \\t er tabulator. Skriver vi sep=\"\\t\" skrives det en tabulator mellom x og f(x)\n",
    "# Skriver ut verdiene:\n",
    "x = -1 # første verdi av x\n",
    "while x <=3:\n",
    "    print(x, f(x), sep=\"\\t\")  # Skriver ut x og f(x) med en tabulator mellom\n",
    "    x = x + 0.5\n",
    "    "
   ]
  },
  {
   "attachments": {},
   "cell_type": "markdown",
   "metadata": {},
   "source": [
    "## Oppgave 2.10\n",
    "\n",
    "Bruk Python til å løse følgende oppgave:\n",
    "\n",
    "a) Maria setter 1200 kroner i banken. Den årlige renten er 2,1 %. Hvor lang tid vil det gå før beløpet har forentet seg til over 2000 kroner?\n",
    "\n",
    "b) Elise vil også sette inn penger i banken. Hvor stort beløp må hun\n",
    "    sette inn for at det skal ta 10 år før beløpet passerer 2000 kroner. Også\n",
    "    hun får en årlig rente på 2,1 %.\n",
    "\n",
    "**Løsning:**"
   ]
  },
  {
   "cell_type": "code",
   "execution_count": 15,
   "metadata": {},
   "outputs": [
    {
     "name": "stdout",
     "output_type": "stream",
     "text": [
      "Det tar 25 år før Beløpet er 2017.55 kr\n"
     ]
    }
   ],
   "source": [
    "# Oppgave a):\n",
    "\n",
    "vekstfaktor = 1.021\n",
    "Beløp = 1200 # starter med 1200 kr\n",
    "år = 0\n",
    "while Beløp < 2000:\n",
    "    Beløp = Beløp * vekstfaktor\n",
    "    år = år + 1\n",
    "print(f\"Det tar {år} år før Beløpet er {Beløp:.2f} kr\")"
   ]
  },
  {
   "cell_type": "code",
   "execution_count": 5,
   "metadata": {},
   "outputs": [
    {
     "name": "stdout",
     "output_type": "stream",
     "text": [
      "Hun må sette inn 1625 kr for å ha 2000 kr på konto etter 10 år.\n"
     ]
    }
   ],
   "source": [
    "# Oppgave b):\n",
    "\n",
    "vekstfaktor = 1.021\n",
    "# Lager en funksjon som regner ut hvor mye som er på kontoen etter 10 år om hun setter inn x kroner. \n",
    "def konto(x):\n",
    "    Beløp = x # starter med x kroner\n",
    "    for år in range(10):\n",
    "        Beløp = Beløp * vekstfaktor\n",
    "    return Beløp\n",
    "\n",
    "# Sjekker ulike verdier av x og finner x som gir 2000 kr etter 10 år:\n",
    "x = 1000 # starter med 1000 kr\n",
    "while konto(x) < 2000:\n",
    "    x = x + 1\n",
    "print(f\"Hun må sette inn {x} kr for å ha 2000 kr på konto etter 10 år.\")"
   ]
  },
  {
   "attachments": {},
   "cell_type": "markdown",
   "metadata": {},
   "source": [
    "```{tip}\n",
    "Det er et godt tips å lage funksjoner når vi har sammensatte oppgaver som dette. Da kan vi bruke funksjonen flere ganger, og vi kan også bruke funksjonen til å teste om vi har løst oppgaven riktig. \n",
    "```"
   ]
  },
  {
   "attachments": {},
   "cell_type": "markdown",
   "metadata": {},
   "source": [
    "## Oppgave 2.11\n",
    "\n",
    "Lag et program som regner ut summen $\\displaystyle \\sum_{n=0}^{100} \\frac{1}{n!} $."
   ]
  },
  {
   "cell_type": "code",
   "execution_count": 16,
   "metadata": {},
   "outputs": [
    {
     "name": "stdout",
     "output_type": "stream",
     "text": [
      "2.7182818284590455\n"
     ]
    }
   ],
   "source": [
    "S = 0 # Skal bli summen\n",
    "n = 0 # starter med 0, som er den første nevneren (0! = 1)\n",
    "nevner = 1 # starter med 1, som er den første nevneren\n",
    "\n",
    "while n <= 100:\n",
    "    S = S + 1/nevner\n",
    "    n = n + 1\n",
    "    nevner = nevner * n\n",
    "print(S)\n"
   ]
  },
  {
   "attachments": {},
   "cell_type": "markdown",
   "metadata": {},
   "source": [
    "Vi ser at dette er en god tilnærming til $e$."
   ]
  },
  {
   "attachments": {},
   "cell_type": "markdown",
   "metadata": {},
   "source": [
    "## Oppgave 2.13\n",
    "\n",
    "Lag et program som tester om et naturlig tall er et primtall.\n",
    "\n",
    "**Løsning:**\n",
    "\n",
    "Det fins veldig mange måter å gjøre dette på. Den enkleste er å sjekke om tallet er delelig med noen tall fra 2 til tallet selv. Hvis det er delelig med et tall, er det ikke et primtall. Hvis det ikke er delelig med noen tall, er det et primtall."
   ]
  },
  {
   "cell_type": "code",
   "execution_count": 21,
   "metadata": {},
   "outputs": [
    {
     "name": "stdout",
     "output_type": "stream",
     "text": [
      "2, 3, 5, 7, 11, 13, 17, 19, 23, 29, 31, 37, 41, 43, 47, 53, 59, 61, 67, 71, 73, 79, 83, 89, 97, "
     ]
    }
   ],
   "source": [
    "def ErPrimtall(n):\n",
    "    for i in range(2, n):\n",
    "        if n % i == 0:\n",
    "            return False\n",
    "    return True\n",
    "\n",
    "# Tester programmet: \n",
    "\n",
    "for i in range(2, 100):\n",
    "    if ErPrimtall(i):\n",
    "        print(i, end=\", \")"
   ]
  },
  {
   "attachments": {},
   "cell_type": "markdown",
   "metadata": {},
   "source": [
    "Det er faktisk nok å sjekke om tallet er delelig med naturlige tall fra 2 til $\\sqrt{n}$. Hvis det ikke er delelig med noen av disse, er det heller ikke delelig med noen større tall. (Bevis dette!)\n"
   ]
  },
  {
   "cell_type": "code",
   "execution_count": 22,
   "metadata": {},
   "outputs": [
    {
     "name": "stdout",
     "output_type": "stream",
     "text": [
      "2, 3, 5, 7, 11, 13, 17, 19, 23, 29, 31, 37, 41, 43, 47, 53, 59, 61, 67, 71, 73, 79, 83, 89, 97, "
     ]
    }
   ],
   "source": [
    "def ErPrimtall(n):\n",
    "    d = 2\n",
    "    while d*d <= n:\n",
    "        if n % d == 0:\n",
    "            return False\n",
    "        d = d + 1\n",
    "    return True\n",
    "\n",
    "# Tester programmet:\n",
    "for i in range(2, 100):\n",
    "    if ErPrimtall(i):\n",
    "        print(i, end=\", \")"
   ]
  },
  {
   "cell_type": "code",
   "execution_count": null,
   "metadata": {},
   "outputs": [],
   "source": []
  }
 ],
 "metadata": {
  "kernelspec": {
   "display_name": "base",
   "language": "python",
   "name": "python3"
  },
  "language_info": {
   "codemirror_mode": {
    "name": "ipython",
    "version": 3
   },
   "file_extension": ".py",
   "mimetype": "text/x-python",
   "name": "python",
   "nbconvert_exporter": "python",
   "pygments_lexer": "ipython3",
   "version": "3.8.15"
  },
  "orig_nbformat": 4,
  "vscode": {
   "interpreter": {
    "hash": "d99b4b40993aa8bf34081c0eb15f3bf1ce7f31b892d31088c144d89404ac10fe"
   }
  }
 },
 "nbformat": 4,
 "nbformat_minor": 2
}
