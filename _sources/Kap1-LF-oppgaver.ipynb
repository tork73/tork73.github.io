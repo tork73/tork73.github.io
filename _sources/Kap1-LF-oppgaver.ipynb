{
 "cells": [
  {
   "attachments": {},
   "cell_type": "markdown",
   "metadata": {},
   "source": [
    "# Løsningsforslag til utvalgte oppgaver\n",
    "\n",
    "\n",
    " ## Oppgave 1.4\n",
    "\n",
    "\n"
   ]
  },
  {
   "cell_type": "code",
   "execution_count": 3,
   "metadata": {},
   "outputs": [
    {
     "name": "stdout",
     "output_type": "stream",
     "text": [
      "31.111111111111114\n"
     ]
    }
   ],
   "source": [
    "F = 88\n",
    "C = 5/9*(F-32)\n",
    "print(C)"
   ]
  },
  {
   "attachments": {},
   "cell_type": "markdown",
   "metadata": {},
   "source": [
    "## Oppgave 1.6\n",
    "\n"
   ]
  },
  {
   "attachments": {},
   "cell_type": "markdown",
   "metadata": {},
   "source": [
    "```python\n",
    "from math import pi\n",
    "radius = input(\"Skriv inn radius: \")\n",
    "radius = float(radius)\n",
    "omkretsen = 2*pi*radius\n",
    "print(f\"Omkretsen er {omkretsen:.3f}.\")\n",
    "```"
   ]
  },
  {
   "attachments": {},
   "cell_type": "markdown",
   "metadata": {},
   "source": [
    "## Oppgave 1.7\n",
    "\n",
    " "
   ]
  },
  {
   "attachments": {},
   "cell_type": "markdown",
   "metadata": {},
   "source": [
    "```python\n",
    "minutter = input(\"Skriv inn antall minutter: \")\n",
    "minutter = int(minutter)      # konverterer til heltall\n",
    "timer = minutter // 60        # heltallsdivisjon\n",
    "minutter = minutter % 60      # resten av divisjonen\n",
    "print(\"Dette tilsvarer\", timer, \"timer og\", minutter, \"minutter.\")\n",
    "```"
   ]
  },
  {
   "attachments": {},
   "cell_type": "markdown",
   "metadata": {},
   "source": [
    "## Oppgave 1.8\n",
    "\n",
    " "
   ]
  },
  {
   "cell_type": "code",
   "execution_count": 6,
   "metadata": {},
   "outputs": [
    {
     "name": "stdout",
     "output_type": "stream",
     "text": [
      "Arealet til trekanten er 17.41.\n"
     ]
    }
   ],
   "source": [
    "a = 5\n",
    "b = 7\n",
    "c = 9\n",
    "s = (a+b+c)/2\n",
    "F = (s*(s-a)*(s-b)*(s-c))**0.5\n",
    "print(f\"Arealet til trekanten er {F:.2f}.\")"
   ]
  },
  {
   "cell_type": "code",
   "execution_count": null,
   "metadata": {},
   "outputs": [],
   "source": []
  }
 ],
 "metadata": {
  "kernelspec": {
   "display_name": "base",
   "language": "python",
   "name": "python3"
  },
  "language_info": {
   "codemirror_mode": {
    "name": "ipython",
    "version": 3
   },
   "file_extension": ".py",
   "mimetype": "text/x-python",
   "name": "python",
   "nbconvert_exporter": "python",
   "pygments_lexer": "ipython3",
   "version": "3.8.15"
  },
  "orig_nbformat": 4,
  "vscode": {
   "interpreter": {
    "hash": "d99b4b40993aa8bf34081c0eb15f3bf1ce7f31b892d31088c144d89404ac10fe"
   }
  }
 },
 "nbformat": 4,
 "nbformat_minor": 2
}
