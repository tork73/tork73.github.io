{
 "cells": [
  {
   "attachments": {},
   "cell_type": "markdown",
   "metadata": {},
   "source": [
    "# Løsningsforslag til utvalgte oppgaver\n",
    "\n",
    "\n",
    " ## Oppgave 1.4\n",
    "\n",
    "Lag en kode som regner om 88$^\\circ$ F til Celsius.\n"
   ]
  },
  {
   "cell_type": "code",
   "execution_count": 3,
   "metadata": {},
   "outputs": [
    {
     "name": "stdout",
     "output_type": "stream",
     "text": [
      "31.111111111111114\n"
     ]
    }
   ],
   "source": [
    "F = 88\n",
    "C = 5/9*(F-32)\n",
    "print(C)"
   ]
  },
  {
   "attachments": {},
   "cell_type": "markdown",
   "metadata": {},
   "source": [
    "## Oppgave 1.6\n",
    "\n",
    "Lag et program som regner ut omkretsen til en sirkel. Når du kjører programmet, skal det spørre brukeren om hva radius er, og så skrive ut omkretsen. Output skal gi omkretsen med tre desimalers nøyaktighet."
   ]
  },
  {
   "attachments": {},
   "cell_type": "markdown",
   "metadata": {},
   "source": [
    "```python\n",
    "from math import pi\n",
    "radius = input(\"Skriv inn radius: \")\n",
    "radius = float(radius)\n",
    "omkretsen = 2*pi*radius\n",
    "print(f\"Omkretsen er {omkretsen:.3f}.\")\n",
    "```"
   ]
  },
  {
   "attachments": {},
   "cell_type": "markdown",
   "metadata": {},
   "source": [
    "## Oppgave 1.7\n",
    "\n",
    " Lag et program som regner om fra minutter til timer + minutter. Det vil si at input skal være antall minutter og output skal være antall timer og antall minutter (mindre enn 60). Er for eksempel input 456 minutter, så skal output være 7 timer og 36 minutter."
   ]
  },
  {
   "attachments": {},
   "cell_type": "markdown",
   "metadata": {},
   "source": [
    "```python\n",
    "minutter = input(\"Skriv inn antall minutter: \")\n",
    "minutter = int(minutter)      # konverterer til heltall\n",
    "timer = minutter // 60        # heltallsdivisjon\n",
    "minutter = minutter % 60      # resten av divisjonen\n",
    "print(\"Dette tilsvarer\", timer, \"timer og\", minutter, \"minutter.\")\n",
    "```"
   ]
  },
  {
   "attachments": {},
   "cell_type": "markdown",
   "metadata": {},
   "source": [
    "## Oppgave 1.8\n",
    "\n",
    " Dersom du kjenner lengden til hver av de tre sidene i en trekant, kan du\n",
    "  bruke Herons formel til å regne ut arealet til trekanten.\n",
    "\n",
    "  Dersom trekanten har sider med lengde $a$, $b$ og $c$, så er arealet $F$ gitt\n",
    "  ved formelen $F = \\sqrt{s(s-a)(s-b)(s-c) } $,der $  s = \\tfrac{1}{2}(a+b+c)$.\n",
    "\n",
    "\n",
    "  Lag et program som regner ut arealet til en trekant med sider $a = 5$, $b = 7$ og $c=9$."
   ]
  },
  {
   "cell_type": "code",
   "execution_count": 6,
   "metadata": {},
   "outputs": [
    {
     "name": "stdout",
     "output_type": "stream",
     "text": [
      "Arealet til trekanten er 17.41.\n"
     ]
    }
   ],
   "source": [
    "a = 5\n",
    "b = 7\n",
    "c = 9\n",
    "s = (a+b+c)/2\n",
    "F = (s*(s-a)*(s-b)*(s-c))**0.5\n",
    "print(f\"Arealet til trekanten er {F:.2f}.\")"
   ]
  },
  {
   "cell_type": "code",
   "execution_count": null,
   "metadata": {},
   "outputs": [],
   "source": []
  }
 ],
 "metadata": {
  "kernelspec": {
   "display_name": "base",
   "language": "python",
   "name": "python3"
  },
  "language_info": {
   "codemirror_mode": {
    "name": "ipython",
    "version": 3
   },
   "file_extension": ".py",
   "mimetype": "text/x-python",
   "name": "python",
   "nbconvert_exporter": "python",
   "pygments_lexer": "ipython3",
   "version": "3.8.15"
  },
  "orig_nbformat": 4,
  "vscode": {
   "interpreter": {
    "hash": "d99b4b40993aa8bf34081c0eb15f3bf1ce7f31b892d31088c144d89404ac10fe"
   }
  }
 },
 "nbformat": 4,
 "nbformat_minor": 2
}
