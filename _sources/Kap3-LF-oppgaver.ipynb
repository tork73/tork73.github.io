{
 "cells": [
  {
   "attachments": {},
   "cell_type": "markdown",
   "metadata": {},
   "source": [
    "# Løsningsforslag til utvalgte oppgaver i kapittel 3\n"
   ]
  },
  {
   "attachments": {},
   "cell_type": "markdown",
   "metadata": {},
   "source": [
    "## Oppgave 3.2\n",
    "\n",
    "Lag et program som plukker ut det nest største tallet i listen L = [2,4,5,3,2,7,3,9]\n",
    "\n",
    "**Løsning:**\n"
   ]
  },
  {
   "cell_type": "code",
   "execution_count": 1,
   "metadata": {},
   "outputs": [
    {
     "name": "stdout",
     "output_type": "stream",
     "text": [
      "7\n"
     ]
    }
   ],
   "source": [
    "L = [2, 4, 5, 3, 2, 7, 3, 9]\n",
    "L.sort()  # Sorterer listen i stigende rekkefølge. Denne forandrer listen.\n",
    "t = L[-2]  # Henter ut nest siste element i listen.\n",
    "print(t)"
   ]
  },
  {
   "attachments": {},
   "cell_type": "markdown",
   "metadata": {},
   "source": [
    "## Oppgave 3.6\n",
    "\n",
    "Lag et program som regner ut de 50 første tallene i følgen $\\{ H(n)\\}$.\n",
    "\n",
    "**Løsning:**\n",
    "\n",
    "Vi bruker den rekursive sammenhengen vi fant (side 52 i boka):\n",
    "\n",
    "$$H(n) = H(n-1)+H(n-2) , \\quad H(1)=1 , \\ H(2)=2$$\n"
   ]
  },
  {
   "cell_type": "code",
   "execution_count": 3,
   "metadata": {},
   "outputs": [
    {
     "name": "stdout",
     "output_type": "stream",
     "text": [
      "[0, 1, 1, 2, 3, 5, 8, 13, 21, 34, 55, 89, 144, 233, 377, 610, 987, 1597, 2584, 4181, 6765, 10946, 17711, 28657, 46368, 75025, 121393, 196418, 317811, 514229, 832040, 1346269, 2178309, 3524578, 5702887, 9227465, 14930352, 24157817, 39088169, 63245986, 102334155, 165580141, 267914296, 433494437, 701408733, 1134903170, 1836311903, 2971215073, 4807526976, 7778742049, 12586269025]\n"
     ]
    }
   ],
   "source": [
    "H = [0]*51  # Lager en liste med 51 nuller. Det første elementet svarer til 0 trinn, det andre til 1 trinn osv.\n",
    "H[1] = 1    # Det er 1 måte å hoppe opp 1 trinn på.  \n",
    "\n",
    "for n in range(2, 51):  # Itererer over alle trinn fra 2 til 50.\n",
    "    H[n] = H[n-1] + H[n-2]  # H[n] er lik antall måter å hoppe opp n trinn på.\n",
    "\n",
    "print(H)"
   ]
  },
  {
   "attachments": {},
   "cell_type": "markdown",
   "metadata": {},
   "source": [
    "Vi kunne også laget et program som definerer en funksjon rekursivt: "
   ]
  },
  {
   "cell_type": "code",
   "execution_count": 5,
   "metadata": {},
   "outputs": [],
   "source": [
    "def H(n):\n",
    "    if n == 1:\n",
    "        return 1\n",
    "    elif n == 2:\n",
    "        return 2\n",
    "    else:\n",
    "        return H(n-1)+H(n-2)"
   ]
  },
  {
   "attachments": {},
   "cell_type": "markdown",
   "metadata": {},
   "source": [
    "Dette programmet vil få problemer når n blir stor (for eksempel når n = 50). Dette kommer av at den må regne ut de ulike verdiene for H(n) flere ganger for å trokle seg opp til n = 50. Dette kan vi unngå ved å lagre de ulike verdiene i en liste i minnet, slik at vi slipper å regne ut de samme verdiene flere ganger. "
   ]
  },
  {
   "cell_type": "code",
   "execution_count": 13,
   "metadata": {},
   "outputs": [
    {
     "data": {
      "text/plain": [
       "20365011074"
      ]
     },
     "execution_count": 13,
     "metadata": {},
     "output_type": "execute_result"
    }
   ],
   "source": [
    "def mem(f):\n",
    "    memory = {}\n",
    "    def inner_function(x):\n",
    "        if x not in memory:            \n",
    "            memory[x] = f(x)\n",
    "            return memory[x]\n",
    "        else:\n",
    "            return memory[x]\n",
    "    return inner_function\n",
    "\n",
    "# \"Dekorerer\" funksjonen H med funksjonen mem:\n",
    "@mem\n",
    "def H(n):\n",
    "    if n == 1:\n",
    "        return 1\n",
    "    elif n == 2:\n",
    "        return 2\n",
    "    else:\n",
    "        return H(n-1)+H(n-2)\n",
    "H(50)"
   ]
  },
  {
   "attachments": {},
   "cell_type": "markdown",
   "metadata": {},
   "source": [
    "I koden ovenfor har vi laget en funksjon som heter mem(f). Den tar vare på verdiene som funksjonen f gir for ulike argumenter. Denne funksjonen kan vi bruke til å lage en ny funksjon som heter H(n). Denne funksjonen vil da huske verdiene til H(n) for ulike n, slik at vi slipper å regne ut de samme verdiene flere ganger.\n",
    "\n",
    "Vi setter sammen disse to funksjonenen. Vi kan nå regne ut de 50 første verdiene i følgen H(n) ved å skrive:\n",
    "```python\n",
    "for n in range(1,51):\n",
    "    print(H(n))\n",
    "```"
   ]
  },
  {
   "attachments": {},
   "cell_type": "markdown",
   "metadata": {},
   "source": [
    "## Oppgave 3.9\n",
    "\n",
    "Elise har arvet 120000 kroner som hun setter inn på en konto med en fast årlig rentefot på 3%. Én gang i året tar hun ut 4000 kroner fra kontoen, første gang ett år etter at hun satte inn pengene på kontoen.\n",
    "\n",
    "a) Forklar at vi kan beskrive situasjonen over ved den rekursive sammenhengen\n",
    "\n",
    "$$ x_{n+1} = x_n\\cdot 1.03 - 4000, \\ \\ x_0 = 120\\,000 $$\n",
    "   \n",
    "b) Hvor mye er igjen på kontoen etter 15 år?\n",
    "  \n",
    "c) Hvor mange år går det før det er 100\\,000 kroner igjen på kontoen?\n",
    "\n",
    "**Løsning:**"
   ]
  },
  {
   "cell_type": "code",
   "execution_count": 14,
   "metadata": {},
   "outputs": [
    {
     "name": "stdout",
     "output_type": "stream",
     "text": [
      "Det er 112560.43 kroner etter 15 år.\n"
     ]
    }
   ],
   "source": [
    "# b) \n",
    "B = 120000 # Startbeløp\n",
    "vekstfaktor = 1.03 \n",
    "x = [0]*61 # Lager en liste med 61 nuller. Det første elementet svarer til 0 år, det andre til 1 år osv.\n",
    "x[0] = B # Setter startbeløpet til 0 år\n",
    "for n in range(1, 61): # Itererer over alle år fra 1 til 60.\n",
    "    x[n] = x[n-1]*vekstfaktor - 4000 # Beregner beløpet etter n år.\n",
    "\n",
    "print(f\"Det er {x[15]:.2f} kroner etter 15 år.\")"
   ]
  },
  {
   "cell_type": "code",
   "execution_count": 22,
   "metadata": {},
   "outputs": [
    {
     "name": "stdout",
     "output_type": "stream",
     "text": [
      "Etter 30 år er det 100969.83 kroner igjen.\n",
      "Etter 31 år er det 99998.93 kroner igjen.\n"
     ]
    }
   ],
   "source": [
    "# c)\n",
    "i = 0\n",
    "while x[i] > 100000:\n",
    "    i += 1 # Øker i med 1\n",
    "print(f\"Etter {i-1} år er det {x[i-1]:.2f} kroner igjen.\")\n",
    "print(f\"Etter {i} år er det {x[i]:.2f} kroner igjen.\")"
   ]
  },
  {
   "attachments": {},
   "cell_type": "markdown",
   "metadata": {},
   "source": [
    "## Oppgave 3.12\n",
    "\n",
    "Arkimedes fant en tilnærmet verdi av $\\pi$ ved å se på omskrevne og innskrevne regulære polygoner til sirkler.\n",
    "\n",
    "![Arkimedes](bilder/arkimedes.png)\n",
    "\n",
    "Vi lar $a_i$ og $b_i$ være omkretsen av henholdsvis det omskrevne og\n",
    "det innskrevne regulære  polygonet med $2^{i+2}$ kanter. Det vil si at $a_0$\n",
    "er omkretsen til det omskrevne kvadratet.\n",
    "\n",
    "Da kan vi vise følgende sammenheng mellom sidene:\n",
    "\n",
    "$$ a_{i+1} = \\frac{2\\cdot a_i\\cdot b_i}{a_i+b_i} $$\n",
    "\n",
    "$$ b_{i+1} =\\sqrt{a_{i+1}\\cdot b_i} $$\n",
    "\n",
    "$$  a_0 = 4 \\ \\text{ og } \\ b_0=2\\cdot \\sqrt{2}$$\n",
    "\n",
    "Lag et program som regner ut en god verdi for $\\pi$.\n",
    "\n",
    "**Løsning:**"
   ]
  },
  {
   "cell_type": "code",
   "execution_count": 25,
   "metadata": {},
   "outputs": [
    {
     "name": "stdout",
     "output_type": "stream",
     "text": [
      "Pi er ca. 3.1415926536\n"
     ]
    }
   ],
   "source": [
    "from math import sqrt\n",
    "a, b = 4, 2*sqrt(2)   # Startverdiene for a og b\n",
    "N = 1000           # Antall iterasjoner\n",
    "\n",
    "for n in range(N):\n",
    "    a = (2*a*b)/(a+b)  # Oppdaterer a \n",
    "    b = sqrt(a*b)      # Oppdaterer b. Merk at vi bruker den oppdaterte verdien av a. \n",
    "\n",
    "print(f\"Pi er ca. {a:.10f}\")"
   ]
  },
  {
   "cell_type": "code",
   "execution_count": null,
   "metadata": {},
   "outputs": [],
   "source": []
  }
 ],
 "metadata": {
  "kernelspec": {
   "display_name": "base",
   "language": "python",
   "name": "python3"
  },
  "language_info": {
   "codemirror_mode": {
    "name": "ipython",
    "version": 3
   },
   "file_extension": ".py",
   "mimetype": "text/x-python",
   "name": "python",
   "nbconvert_exporter": "python",
   "pygments_lexer": "ipython3",
   "version": "3.8.15"
  },
  "orig_nbformat": 4,
  "vscode": {
   "interpreter": {
    "hash": "d99b4b40993aa8bf34081c0eb15f3bf1ce7f31b892d31088c144d89404ac10fe"
   }
  }
 },
 "nbformat": 4,
 "nbformat_minor": 2
}
