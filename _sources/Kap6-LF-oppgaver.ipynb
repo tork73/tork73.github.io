{
 "cells": [
  {
   "cell_type": "markdown",
   "metadata": {},
   "source": [
    "# Løsningsforslag til kapittel 6\n"
   ]
  },
  {
   "cell_type": "markdown",
   "metadata": {},
   "source": [
    "## Oppgave 6.2\n"
   ]
  },
  {
   "cell_type": "code",
   "execution_count": 2,
   "metadata": {},
   "outputs": [
    {
     "name": "stdout",
     "output_type": "stream",
     "text": [
      "1.5\n",
      "1.4\n",
      "1.4166666666666667\n",
      "1.4137931034482758\n",
      "1.4142857142857144\n",
      "1.4142011834319526\n",
      "1.4142156862745099\n",
      "1.4142131979695431\n",
      "1.4142136248948696\n",
      "1.4142135516460548\n",
      "1.4142135642135643\n",
      "1.4142135620573204\n",
      "1.4142135624272734\n",
      "1.4142135623637995\n",
      "1.4142135623746899\n",
      "1.4142135623728214\n",
      "1.414213562373142\n",
      "1.414213562373087\n",
      "1.4142135623730965\n",
      "1.4142135623730947\n"
     ]
    }
   ],
   "source": [
    "x = 1  # startverdien til x\n",
    "\n",
    "for i in range(20):\n",
    "    x = (2+x)/(1+x) # regn ut neste verdi av x\n",
    "    print(x) # skriv ut x"
   ]
  },
  {
   "cell_type": "markdown",
   "metadata": {},
   "source": [
    "## Oppgave 6.3\n",
    "\n",
    "Her er $f(x)= \\dfrac{x+N}{1+x}$. \n",
    "\n",
    "1. Jeg vet at $f$ er en strengt avtagende funksjon og at $f(x)>1$ for alle $x>-1$. Derfor vil $f(x)\\in I=[1, N]$ for alle $x\\in I$. Videre er \n",
    "2. $ f'(x) = \\dfrac{1-N}{(1+x)^2} > 0$ og $\\mid f'(x)\\mid \\leq \\dfrac{1}{(1+x)^2} \\leq 1$ for alle $x>-1$ og spesielt for alle $x\\in I$.\n",
    "\n",
    "Altså er begge kriteriene i fikspunktteoremet oppfylt og det finnes et fikspunkt som følgen $x_{n+1}=f(x_n)$ konvergerer mot.\n"
   ]
  },
  {
   "cell_type": "markdown",
   "metadata": {},
   "source": [
    "## Oppgave 6.4 b) \n",
    "\n",
    "Her kan vi bruke at $\\sqrt{402}=\\sqrt{400 \\cdot 1.004} = 20 \\sqrt{1.004}$. Det går mye raskere å regne ut $\\sqrt{1.004}$ enn $\\sqrt{402}$:"
   ]
  },
  {
   "cell_type": "code",
   "execution_count": 9,
   "metadata": {},
   "outputs": [
    {
     "name": "stdout",
     "output_type": "stream",
     "text": [
      "20.049999999999997\n",
      "20.049937578027468\n",
      "20.049937655860347\n",
      "20.0499376557633\n",
      "20.049937655763422\n",
      "20.049937655763422\n",
      "20.049937655763422\n",
      "20.049937655763422\n",
      "20.049937655763422\n",
      "20.049937655763422\n"
     ]
    }
   ],
   "source": [
    "x = 1  # startverdien til x\n",
    "for i in range(10):\n",
    "    x = (x+1.005)/(1+x) # regn ut neste verdi av x\n",
    "    print(20*x) # skriv ut x"
   ]
  },
  {
   "cell_type": "markdown",
   "metadata": {},
   "source": [
    "Hadde vi brukt $N=402$ i algoritmen ville vi fått en hastighet på \n",
    "\n",
    "$k = \\frac{\\sqrt{402}+1}{\\sqrt{402}-1} \\approx 1.105$\n",
    "\n",
    "Dersom vi bruker $N=1.005$ får vi en hastighet på\n",
    "\n",
    "$k = \\frac{\\sqrt{1.005}+1}{\\sqrt{1.005}-1} \\approx 802.0$ \n",
    "\n",
    "Altså er den siste algoritmen over 700 ganger raskere enn om vi ikke hadde faktorisert ut 400. "
   ]
  },
  {
   "cell_type": "markdown",
   "metadata": {},
   "source": [
    "## Oppgave 6.5"
   ]
  },
  {
   "cell_type": "code",
   "execution_count": 12,
   "metadata": {},
   "outputs": [
    {
     "name": "stdout",
     "output_type": "stream",
     "text": [
      "40.55\n",
      "35.342817509247844\n",
      "34.95922118893607\n",
      "34.95711664924737\n",
      "34.95711658589707\n",
      "34.95711658589707\n",
      "34.95711658589707\n"
     ]
    }
   ],
   "source": [
    "x = 20  # startverdien til x\n",
    "\n",
    "for i in range(7):\n",
    "    x = (1222/x+x)/2 # regn ut neste verdi av x\n",
    "    print(x) # skriv ut x"
   ]
  }
 ],
 "metadata": {
  "kernelspec": {
   "display_name": "base",
   "language": "python",
   "name": "python3"
  },
  "language_info": {
   "codemirror_mode": {
    "name": "ipython",
    "version": 3
   },
   "file_extension": ".py",
   "mimetype": "text/x-python",
   "name": "python",
   "nbconvert_exporter": "python",
   "pygments_lexer": "ipython3",
   "version": "3.11.5"
  }
 },
 "nbformat": 4,
 "nbformat_minor": 2
}
